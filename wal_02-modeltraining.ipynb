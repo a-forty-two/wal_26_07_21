{
  "nbformat": 4,
  "nbformat_minor": 0,
  "metadata": {
    "colab": {
      "name": "wal_02.ipynb",
      "provenance": [],
      "collapsed_sections": [],
      "authorship_tag": "ABX9TyO7P43yGxrhR7IRjHXnnHa+",
      "include_colab_link": true
    },
    "kernelspec": {
      "name": "python3",
      "display_name": "Python 3"
    },
    "language_info": {
      "name": "python"
    }
  },
  "cells": [
    {
      "cell_type": "markdown",
      "metadata": {
        "id": "view-in-github",
        "colab_type": "text"
      },
      "source": [
        "<a href=\"https://colab.research.google.com/github/a-forty-two/wal_26_07_21/blob/main/wal_02-modeltraining.ipynb\" target=\"_parent\"><img src=\"https://colab.research.google.com/assets/colab-badge.svg\" alt=\"Open In Colab\"/></a>"
      ]
    },
    {
      "cell_type": "code",
      "metadata": {
        "colab": {
          "base_uri": "https://localhost:8080/"
        },
        "id": "TAKCvIWYbHrh",
        "outputId": "9aefb164-ed73-41a4-dcb3-b5f7cd6bc2d7"
      },
      "source": [
        "import tensorflow as tf\n",
        "print(tf.__version__)"
      ],
      "execution_count": 1,
      "outputs": [
        {
          "output_type": "stream",
          "text": [
            "2.5.0\n"
          ],
          "name": "stdout"
        }
      ]
    },
    {
      "cell_type": "code",
      "metadata": {
        "id": "-VQ1SLushZFU"
      },
      "source": [
        "from tensorflow import keras\n",
        "# code/bug-> Natural Language Processing\n",
        "# not my binary language=> no ready made dictionary \n",
        "imdb = keras.datasets.imdb"
      ],
      "execution_count": 2,
      "outputs": []
    },
    {
      "cell_type": "code",
      "metadata": {
        "colab": {
          "base_uri": "https://localhost:8080/"
        },
        "id": "4Fgw60PviEon",
        "outputId": "0ef62ed9-053c-4693-f20d-516b0c6ac5db"
      },
      "source": [
        "(xtrain,ytrain),(xtest,ytest) = imdb.load_data(num_words=10000)"
      ],
      "execution_count": 3,
      "outputs": [
        {
          "output_type": "stream",
          "text": [
            "<string>:6: VisibleDeprecationWarning: Creating an ndarray from ragged nested sequences (which is a list-or-tuple of lists-or-tuples-or ndarrays with different lengths or shapes) is deprecated. If you meant to do this, you must specify 'dtype=object' when creating the ndarray\n",
            "/usr/local/lib/python3.7/dist-packages/tensorflow/python/keras/datasets/imdb.py:155: VisibleDeprecationWarning: Creating an ndarray from ragged nested sequences (which is a list-or-tuple of lists-or-tuples-or ndarrays with different lengths or shapes) is deprecated. If you meant to do this, you must specify 'dtype=object' when creating the ndarray\n",
            "  x_train, y_train = np.array(xs[:idx]), np.array(labels[:idx])\n",
            "/usr/local/lib/python3.7/dist-packages/tensorflow/python/keras/datasets/imdb.py:156: VisibleDeprecationWarning: Creating an ndarray from ragged nested sequences (which is a list-or-tuple of lists-or-tuples-or ndarrays with different lengths or shapes) is deprecated. If you meant to do this, you must specify 'dtype=object' when creating the ndarray\n",
            "  x_test, y_test = np.array(xs[idx:]), np.array(labels[idx:])\n"
          ],
          "name": "stderr"
        }
      ]
    },
    {
      "cell_type": "code",
      "metadata": {
        "colab": {
          "base_uri": "https://localhost:8080/"
        },
        "id": "wpVJjX_MpsJr",
        "outputId": "023da6b6-0238-4112-c5ba-6a12ab3c60fb"
      },
      "source": [
        "xtrain.shape\n",
        "xtest.shape"
      ],
      "execution_count": 4,
      "outputs": [
        {
          "output_type": "execute_result",
          "data": {
            "text/plain": [
              "(25000,)"
            ]
          },
          "metadata": {
            "tags": []
          },
          "execution_count": 4
        }
      ]
    },
    {
      "cell_type": "code",
      "metadata": {
        "colab": {
          "base_uri": "https://localhost:8080/"
        },
        "id": "-0og7dPxiRLa",
        "outputId": "1fc0aad1-0f00-4b9a-e281-6dd647efe8e9"
      },
      "source": [
        "dir(imdb)"
      ],
      "execution_count": 5,
      "outputs": [
        {
          "output_type": "execute_result",
          "data": {
            "text/plain": [
              "['__builtins__',\n",
              " '__cached__',\n",
              " '__doc__',\n",
              " '__file__',\n",
              " '__loader__',\n",
              " '__name__',\n",
              " '__package__',\n",
              " '__path__',\n",
              " '__spec__',\n",
              " '_sys',\n",
              " 'get_word_index',\n",
              " 'load_data']"
            ]
          },
          "metadata": {
            "tags": []
          },
          "execution_count": 5
        }
      ]
    },
    {
      "cell_type": "code",
      "metadata": {
        "colab": {
          "base_uri": "https://localhost:8080/"
        },
        "id": "TBSIZRJKiU4y",
        "outputId": "cf0256f9-4d1c-461c-ba16-997258be7b4d"
      },
      "source": [
        "print(xtrain[0])\n",
        "# 2X2=2-> training\n",
        "# 2X3=6 => testing\n",
        "\n",
        "# training data-> x = y, 2X2=4, 2X50=100=> y=mx+c\n",
        "# test-> x, y=? -> y= m*xtest + c\n",
        "# 2X4 = 42, no-> 8. Error = 8-42 = -36\n",
        "# 2X4 = 9, no-> 8, Error = 8-9 = -1 \n",
        "\n",
        "# OVERFITTING-> \n",
        "\n",
        "\n",
        "# All data-> training data, testing data \n",
        "# some x,y went to train the model\n",
        "# rest of x,y went to verify the model "
      ],
      "execution_count": 6,
      "outputs": [
        {
          "output_type": "stream",
          "text": [
            "[1, 14, 22, 16, 43, 530, 973, 1622, 1385, 65, 458, 4468, 66, 3941, 4, 173, 36, 256, 5, 25, 100, 43, 838, 112, 50, 670, 2, 9, 35, 480, 284, 5, 150, 4, 172, 112, 167, 2, 336, 385, 39, 4, 172, 4536, 1111, 17, 546, 38, 13, 447, 4, 192, 50, 16, 6, 147, 2025, 19, 14, 22, 4, 1920, 4613, 469, 4, 22, 71, 87, 12, 16, 43, 530, 38, 76, 15, 13, 1247, 4, 22, 17, 515, 17, 12, 16, 626, 18, 2, 5, 62, 386, 12, 8, 316, 8, 106, 5, 4, 2223, 5244, 16, 480, 66, 3785, 33, 4, 130, 12, 16, 38, 619, 5, 25, 124, 51, 36, 135, 48, 25, 1415, 33, 6, 22, 12, 215, 28, 77, 52, 5, 14, 407, 16, 82, 2, 8, 4, 107, 117, 5952, 15, 256, 4, 2, 7, 3766, 5, 723, 36, 71, 43, 530, 476, 26, 400, 317, 46, 7, 4, 2, 1029, 13, 104, 88, 4, 381, 15, 297, 98, 32, 2071, 56, 26, 141, 6, 194, 7486, 18, 4, 226, 22, 21, 134, 476, 26, 480, 5, 144, 30, 5535, 18, 51, 36, 28, 224, 92, 25, 104, 4, 226, 65, 16, 38, 1334, 88, 12, 16, 283, 5, 16, 4472, 113, 103, 32, 15, 16, 5345, 19, 178, 32]\n"
          ],
          "name": "stdout"
        }
      ]
    },
    {
      "cell_type": "code",
      "metadata": {
        "colab": {
          "base_uri": "https://localhost:8080/"
        },
        "id": "A0aYxuHXifWJ",
        "outputId": "eea4ebc1-a02e-4ac0-b08d-e81c1717722a"
      },
      "source": [
        "print(ytrain[0])"
      ],
      "execution_count": 7,
      "outputs": [
        {
          "output_type": "stream",
          "text": [
            "1\n"
          ],
          "name": "stdout"
        }
      ]
    },
    {
      "cell_type": "code",
      "metadata": {
        "id": "PdAKbgybim3l"
      },
      "source": [
        "dictionary = imdb.get_word_index()\n"
      ],
      "execution_count": 8,
      "outputs": []
    },
    {
      "cell_type": "code",
      "metadata": {
        "colab": {
          "base_uri": "https://localhost:8080/"
        },
        "id": "dtoc1VOnlR84",
        "outputId": "6d750f5a-7088-478d-cc8b-deb159a2b99b"
      },
      "source": [
        "\n",
        "dictionary['hello']"
      ],
      "execution_count": 9,
      "outputs": [
        {
          "output_type": "execute_result",
          "data": {
            "text/plain": [
              "4822"
            ]
          },
          "metadata": {
            "tags": []
          },
          "execution_count": 9
        }
      ]
    },
    {
      "cell_type": "code",
      "metadata": {
        "id": "W2iKJ-61lW8d"
      },
      "source": [
        "word_index = {word:(encoding+3) for word,encoding in dictionary.items()}\n",
        "word_index['<PAD>'] = 0\n",
        "word_index['<START>'] = 1\n",
        "word_index['<UNK>'] = 2  # unknown words\n",
        "word_index['<UNUSED>'] = 3\n",
        "worddictionary = { encoding:word  for word,encoding in word_index.items()   }"
      ],
      "execution_count": 10,
      "outputs": []
    },
    {
      "cell_type": "code",
      "metadata": {
        "colab": {
          "base_uri": "https://localhost:8080/",
          "height": 36
        },
        "id": "eCuvP-COpBjR",
        "outputId": "0be85f1f-ac53-44c6-803d-ac3f1198d06f"
      },
      "source": [
        "worddictionary[100]"
      ],
      "execution_count": 11,
      "outputs": [
        {
          "output_type": "execute_result",
          "data": {
            "application/vnd.google.colaboratory.intrinsic+json": {
              "type": "string"
            },
            "text/plain": [
              "'could'"
            ]
          },
          "metadata": {
            "tags": []
          },
          "execution_count": 11
        }
      ]
    },
    {
      "cell_type": "code",
      "metadata": {
        "id": "7ngTowvhpE1-"
      },
      "source": [
        "\n",
        "\n",
        "def decoder(sampleinput):\n",
        "  return \" \".join([worddictionary[word] for word in sampleinput])\n",
        "\n"
      ],
      "execution_count": 12,
      "outputs": []
    },
    {
      "cell_type": "code",
      "metadata": {
        "colab": {
          "base_uri": "https://localhost:8080/",
          "height": 184
        },
        "id": "nc799fxjpV_E",
        "outputId": "428077b2-6a61-402d-c8b6-ebaa43c0fd9e"
      },
      "source": [
        "decoder(xtrain[100])"
      ],
      "execution_count": 13,
      "outputs": [
        {
          "output_type": "execute_result",
          "data": {
            "application/vnd.google.colaboratory.intrinsic+json": {
              "type": "string"
            },
            "text/plain": [
              "\"<START> i am a great fan of david lynch and have everything that he's made on dvd except for hotel room the 2 hour twin peaks movie so when i found out about this i immediately grabbed it and and what is this it's a bunch of <UNK> drawn black and white cartoons that are loud and foul mouthed and unfunny maybe i don't know what's good but maybe this is just a bunch of crap that was <UNK> on the public under the name of david lynch to make a few bucks too let me make it clear that i didn't care about the foul language part but had to keep <UNK> the sound because my neighbors might have all in all this is a highly disappointing release and may well have just been left in the <UNK> box set as a curiosity i highly recommend you don't spend your money on this 2 out of 10\""
            ]
          },
          "metadata": {
            "tags": []
          },
          "execution_count": 13
        }
      ]
    },
    {
      "cell_type": "code",
      "metadata": {
        "colab": {
          "base_uri": "https://localhost:8080/"
        },
        "id": "lixPJp0apZUj",
        "outputId": "f77d48f0-dc47-48d3-8424-d03411998203"
      },
      "source": [
        "ytrain[100]"
      ],
      "execution_count": 14,
      "outputs": [
        {
          "output_type": "execute_result",
          "data": {
            "text/plain": [
              "0"
            ]
          },
          "metadata": {
            "tags": []
          },
          "execution_count": 14
        }
      ]
    },
    {
      "cell_type": "code",
      "metadata": {
        "colab": {
          "base_uri": "https://localhost:8080/"
        },
        "id": "sHuPw0eXp9Ls",
        "outputId": "afd3add3-c5cf-47be-ce9b-db6c6baf6b99"
      },
      "source": [
        "xtrain[0:5]"
      ],
      "execution_count": 15,
      "outputs": [
        {
          "output_type": "execute_result",
          "data": {
            "text/plain": [
              "array([list([1, 14, 22, 16, 43, 530, 973, 1622, 1385, 65, 458, 4468, 66, 3941, 4, 173, 36, 256, 5, 25, 100, 43, 838, 112, 50, 670, 2, 9, 35, 480, 284, 5, 150, 4, 172, 112, 167, 2, 336, 385, 39, 4, 172, 4536, 1111, 17, 546, 38, 13, 447, 4, 192, 50, 16, 6, 147, 2025, 19, 14, 22, 4, 1920, 4613, 469, 4, 22, 71, 87, 12, 16, 43, 530, 38, 76, 15, 13, 1247, 4, 22, 17, 515, 17, 12, 16, 626, 18, 2, 5, 62, 386, 12, 8, 316, 8, 106, 5, 4, 2223, 5244, 16, 480, 66, 3785, 33, 4, 130, 12, 16, 38, 619, 5, 25, 124, 51, 36, 135, 48, 25, 1415, 33, 6, 22, 12, 215, 28, 77, 52, 5, 14, 407, 16, 82, 2, 8, 4, 107, 117, 5952, 15, 256, 4, 2, 7, 3766, 5, 723, 36, 71, 43, 530, 476, 26, 400, 317, 46, 7, 4, 2, 1029, 13, 104, 88, 4, 381, 15, 297, 98, 32, 2071, 56, 26, 141, 6, 194, 7486, 18, 4, 226, 22, 21, 134, 476, 26, 480, 5, 144, 30, 5535, 18, 51, 36, 28, 224, 92, 25, 104, 4, 226, 65, 16, 38, 1334, 88, 12, 16, 283, 5, 16, 4472, 113, 103, 32, 15, 16, 5345, 19, 178, 32]),\n",
              "       list([1, 194, 1153, 194, 8255, 78, 228, 5, 6, 1463, 4369, 5012, 134, 26, 4, 715, 8, 118, 1634, 14, 394, 20, 13, 119, 954, 189, 102, 5, 207, 110, 3103, 21, 14, 69, 188, 8, 30, 23, 7, 4, 249, 126, 93, 4, 114, 9, 2300, 1523, 5, 647, 4, 116, 9, 35, 8163, 4, 229, 9, 340, 1322, 4, 118, 9, 4, 130, 4901, 19, 4, 1002, 5, 89, 29, 952, 46, 37, 4, 455, 9, 45, 43, 38, 1543, 1905, 398, 4, 1649, 26, 6853, 5, 163, 11, 3215, 2, 4, 1153, 9, 194, 775, 7, 8255, 2, 349, 2637, 148, 605, 2, 8003, 15, 123, 125, 68, 2, 6853, 15, 349, 165, 4362, 98, 5, 4, 228, 9, 43, 2, 1157, 15, 299, 120, 5, 120, 174, 11, 220, 175, 136, 50, 9, 4373, 228, 8255, 5, 2, 656, 245, 2350, 5, 4, 9837, 131, 152, 491, 18, 2, 32, 7464, 1212, 14, 9, 6, 371, 78, 22, 625, 64, 1382, 9, 8, 168, 145, 23, 4, 1690, 15, 16, 4, 1355, 5, 28, 6, 52, 154, 462, 33, 89, 78, 285, 16, 145, 95]),\n",
              "       list([1, 14, 47, 8, 30, 31, 7, 4, 249, 108, 7, 4, 5974, 54, 61, 369, 13, 71, 149, 14, 22, 112, 4, 2401, 311, 12, 16, 3711, 33, 75, 43, 1829, 296, 4, 86, 320, 35, 534, 19, 263, 4821, 1301, 4, 1873, 33, 89, 78, 12, 66, 16, 4, 360, 7, 4, 58, 316, 334, 11, 4, 1716, 43, 645, 662, 8, 257, 85, 1200, 42, 1228, 2578, 83, 68, 3912, 15, 36, 165, 1539, 278, 36, 69, 2, 780, 8, 106, 14, 6905, 1338, 18, 6, 22, 12, 215, 28, 610, 40, 6, 87, 326, 23, 2300, 21, 23, 22, 12, 272, 40, 57, 31, 11, 4, 22, 47, 6, 2307, 51, 9, 170, 23, 595, 116, 595, 1352, 13, 191, 79, 638, 89, 2, 14, 9, 8, 106, 607, 624, 35, 534, 6, 227, 7, 129, 113]),\n",
              "       list([1, 4, 2, 2, 33, 2804, 4, 2040, 432, 111, 153, 103, 4, 1494, 13, 70, 131, 67, 11, 61, 2, 744, 35, 3715, 761, 61, 5766, 452, 9214, 4, 985, 7, 2, 59, 166, 4, 105, 216, 1239, 41, 1797, 9, 15, 7, 35, 744, 2413, 31, 8, 4, 687, 23, 4, 2, 7339, 6, 3693, 42, 38, 39, 121, 59, 456, 10, 10, 7, 265, 12, 575, 111, 153, 159, 59, 16, 1447, 21, 25, 586, 482, 39, 4, 96, 59, 716, 12, 4, 172, 65, 9, 579, 11, 6004, 4, 1615, 5, 2, 7, 5168, 17, 13, 7064, 12, 19, 6, 464, 31, 314, 11, 2, 6, 719, 605, 11, 8, 202, 27, 310, 4, 3772, 3501, 8, 2722, 58, 10, 10, 537, 2116, 180, 40, 14, 413, 173, 7, 263, 112, 37, 152, 377, 4, 537, 263, 846, 579, 178, 54, 75, 71, 476, 36, 413, 263, 2504, 182, 5, 17, 75, 2306, 922, 36, 279, 131, 2895, 17, 2867, 42, 17, 35, 921, 2, 192, 5, 1219, 3890, 19, 2, 217, 4122, 1710, 537, 2, 1236, 5, 736, 10, 10, 61, 403, 9, 2, 40, 61, 4494, 5, 27, 4494, 159, 90, 263, 2311, 4319, 309, 8, 178, 5, 82, 4319, 4, 65, 15, 9225, 145, 143, 5122, 12, 7039, 537, 746, 537, 537, 15, 7979, 4, 2, 594, 7, 5168, 94, 9096, 3987, 2, 11, 2, 4, 538, 7, 1795, 246, 2, 9, 2, 11, 635, 14, 9, 51, 408, 12, 94, 318, 1382, 12, 47, 6, 2683, 936, 5, 6307, 2, 19, 49, 7, 4, 1885, 2, 1118, 25, 80, 126, 842, 10, 10, 2, 2, 4726, 27, 4494, 11, 1550, 3633, 159, 27, 341, 29, 2733, 19, 4185, 173, 7, 90, 2, 8, 30, 11, 4, 1784, 86, 1117, 8, 3261, 46, 11, 2, 21, 29, 9, 2841, 23, 4, 1010, 2, 793, 6, 2, 1386, 1830, 10, 10, 246, 50, 9, 6, 2750, 1944, 746, 90, 29, 2, 8, 124, 4, 882, 4, 882, 496, 27, 2, 2213, 537, 121, 127, 1219, 130, 5, 29, 494, 8, 124, 4, 882, 496, 4, 341, 7, 27, 846, 10, 10, 29, 9, 1906, 8, 97, 6, 236, 2, 1311, 8, 4, 2, 7, 31, 7, 2, 91, 2, 3987, 70, 4, 882, 30, 579, 42, 9, 12, 32, 11, 537, 10, 10, 11, 14, 65, 44, 537, 75, 2, 1775, 3353, 2, 1846, 4, 2, 7, 154, 5, 4, 518, 53, 2, 2, 7, 3211, 882, 11, 399, 38, 75, 257, 3807, 19, 2, 17, 29, 456, 4, 65, 7, 27, 205, 113, 10, 10, 2, 4, 2, 2, 9, 242, 4, 91, 1202, 2, 5, 2070, 307, 22, 7, 5168, 126, 93, 40, 2, 13, 188, 1076, 3222, 19, 4, 2, 7, 2348, 537, 23, 53, 537, 21, 82, 40, 2, 13, 2, 14, 280, 13, 219, 4, 2, 431, 758, 859, 4, 953, 1052, 2, 7, 5991, 5, 94, 40, 25, 238, 60, 2, 4, 2, 804, 2, 7, 4, 9941, 132, 8, 67, 6, 22, 15, 9, 283, 8, 5168, 14, 31, 9, 242, 955, 48, 25, 279, 2, 23, 12, 1685, 195, 25, 238, 60, 796, 2, 4, 671, 7, 2804, 5, 4, 559, 154, 888, 7, 726, 50, 26, 49, 7008, 15, 566, 30, 579, 21, 64, 2574]),\n",
              "       list([1, 249, 1323, 7, 61, 113, 10, 10, 13, 1637, 14, 20, 56, 33, 2401, 18, 457, 88, 13, 2626, 1400, 45, 3171, 13, 70, 79, 49, 706, 919, 13, 16, 355, 340, 355, 1696, 96, 143, 4, 22, 32, 289, 7, 61, 369, 71, 2359, 5, 13, 16, 131, 2073, 249, 114, 249, 229, 249, 20, 13, 28, 126, 110, 13, 473, 8, 569, 61, 419, 56, 429, 6, 1513, 18, 35, 534, 95, 474, 570, 5, 25, 124, 138, 88, 12, 421, 1543, 52, 725, 6397, 61, 419, 11, 13, 1571, 15, 1543, 20, 11, 4, 2, 5, 296, 12, 3524, 5, 15, 421, 128, 74, 233, 334, 207, 126, 224, 12, 562, 298, 2167, 1272, 7, 2601, 5, 516, 988, 43, 8, 79, 120, 15, 595, 13, 784, 25, 3171, 18, 165, 170, 143, 19, 14, 5, 7224, 6, 226, 251, 7, 61, 113])],\n",
              "      dtype=object)"
            ]
          },
          "metadata": {
            "tags": []
          },
          "execution_count": 15
        }
      ]
    },
    {
      "cell_type": "code",
      "metadata": {
        "id": "CkvbGkB5qVbD"
      },
      "source": [
        "# sales-> country, us, warehouse-> \n",
        "# 0-> 100\n",
        "# 1-> 200\n",
        "# 3-> 150\n",
        "\n",
        "# 0-> 120-> padded with 20 zeros\n",
        "# 1-> 120-> last 80 numbers chopped\n",
        "# 2-> 120-> last 30 numbers chopped\n"
      ],
      "execution_count": 16,
      "outputs": []
    },
    {
      "cell_type": "code",
      "metadata": {
        "id": "OnHZX_KZrqa4"
      },
      "source": [
        "# read your input\n",
        "\n",
        "# i am a good boy = 1\n",
        "# i am a bad boy = 0\n",
        "# we are not so good = 0\n",
        "\n",
        "# i*w1 + am*w2 + a*w3 + good *w4 + boy *w5 + bad * 0 + we*0 +b1 = 1\n",
        "# i*w1 + am*w2 + a*w3 + good *0 + boy *w5 + bad * w6 +b2= 0"
      ],
      "execution_count": 17,
      "outputs": []
    },
    {
      "cell_type": "code",
      "metadata": {
        "colab": {
          "base_uri": "https://localhost:8080/"
        },
        "id": "1ai4MGD90xS2",
        "outputId": "5f5fab82-20c2-4a1d-f739-ff113839e49b"
      },
      "source": [
        "xtrain_padded = keras.preprocessing.sequence.pad_sequences(xtrain, value=0, padding='post',\n",
        "                                                           truncating='post', maxlen=256)\n",
        "xtest_padded = keras.preprocessing.sequence.pad_sequences(xtest, value=0, padding='post', \n",
        "                                                          truncating='post', maxlen=256)\n",
        "print(decoder(xtrain[642]))\n",
        "print(decoder(xtrain_padded[642])) # LONG SENTENCE CHOPPED\n",
        "print(decoder(xtrain[262])) # SHORT SENTENCE PADDED\n",
        "print(decoder(xtrain_padded[262]))"
      ],
      "execution_count": 18,
      "outputs": [
        {
          "output_type": "stream",
          "text": [
            "<START> if deborah messing were not already cast as grace this might be a tolerable film however it is simply another story of a frustrated <UNK> with issues who hires a paid <UNK> <UNK> <UNK> she reads about in a time magazine article to travel to london for her sister's london wedding how new is this plot br br neither funny nor remotely romantic the wedding date <UNK> over the storyline of <UNK> sex by bride and best man and paid for <UNK> to pass off the film as four <UNK> without hugh and definitely a dead end deal for the naive <UNK> who is ignorant to the sexual history of his bride amy adams while messing has <UNK> the repressed princess 30 something woman with a failed relationship history her neurotic and drunken moves on yet another faux beau is simply the <UNK> of her tv series if this woman is an actress get a role that does not rehash what is already on prime time br br lots of drunken female bonding <UNK> visual jokes and <UNK> in a <UNK> nice but the film is a bore with the obvious happy ending expected messing sequel divorce date\n",
            "<START> if deborah messing were not already cast as grace this might be a tolerable film however it is simply another story of a frustrated <UNK> with issues who hires a paid <UNK> <UNK> <UNK> she reads about in a time magazine article to travel to london for her sister's london wedding how new is this plot br br neither funny nor remotely romantic the wedding date <UNK> over the storyline of <UNK> sex by bride and best man and paid for <UNK> to pass off the film as four <UNK> without hugh and definitely a dead end deal for the naive <UNK> who is ignorant to the sexual history of his bride amy adams while messing has <UNK> the repressed princess 30 something woman with a failed relationship history her neurotic and drunken moves on yet another faux beau is simply the <UNK> of her tv series if this woman is an actress get a role that does not rehash what is already on prime time br br lots of drunken female bonding <UNK> visual jokes and <UNK> in a <UNK> nice but the film is a bore with the obvious happy ending expected messing sequel divorce date <PAD> <PAD> <PAD> <PAD> <PAD> <PAD> <PAD> <PAD> <PAD> <PAD> <PAD> <PAD> <PAD> <PAD> <PAD> <PAD> <PAD> <PAD> <PAD> <PAD> <PAD> <PAD> <PAD> <PAD> <PAD> <PAD> <PAD> <PAD> <PAD> <PAD> <PAD> <PAD> <PAD> <PAD> <PAD> <PAD> <PAD> <PAD> <PAD> <PAD> <PAD> <PAD> <PAD> <PAD> <PAD> <PAD> <PAD> <PAD> <PAD> <PAD> <PAD> <PAD> <PAD> <PAD> <PAD> <PAD> <PAD>\n",
            "<START> i've just finished viewing the 1st disc in a 4 disc 26 episodes collection created in <UNK> with the <UNK> film television archive <UNK> entertainment inc so far aside from the 1st episode the image quality is quite good the dvd box is shown on the title page here on imdb br br mr <UNK> is just as charming as when i first saw it 5 years old at the time and <UNK> cox is truly endearing in this role if you're in the mood for quiet comedy that <UNK> up on you as opposed to hitting you over the head you'll treasure this chance to experience all the wonderful characters you might remember from your childhood although some of the gags are a bit corny most are ingenious and well executed and even the corny ones are fun this is one tv series that lives up to my early childhood memories of it\n",
            "<START> i've just finished viewing the 1st disc in a 4 disc 26 episodes collection created in <UNK> with the <UNK> film television archive <UNK> entertainment inc so far aside from the 1st episode the image quality is quite good the dvd box is shown on the title page here on imdb br br mr <UNK> is just as charming as when i first saw it 5 years old at the time and <UNK> cox is truly endearing in this role if you're in the mood for quiet comedy that <UNK> up on you as opposed to hitting you over the head you'll treasure this chance to experience all the wonderful characters you might remember from your childhood although some of the gags are a bit corny most are ingenious and well executed and even the corny ones are fun this is one tv series that lives up to my early childhood memories of it <PAD> <PAD> <PAD> <PAD> <PAD> <PAD> <PAD> <PAD> <PAD> <PAD> <PAD> <PAD> <PAD> <PAD> <PAD> <PAD> <PAD> <PAD> <PAD> <PAD> <PAD> <PAD> <PAD> <PAD> <PAD> <PAD> <PAD> <PAD> <PAD> <PAD> <PAD> <PAD> <PAD> <PAD> <PAD> <PAD> <PAD> <PAD> <PAD> <PAD> <PAD> <PAD> <PAD> <PAD> <PAD> <PAD> <PAD> <PAD> <PAD> <PAD> <PAD> <PAD> <PAD> <PAD> <PAD> <PAD> <PAD> <PAD> <PAD> <PAD> <PAD> <PAD> <PAD> <PAD> <PAD> <PAD> <PAD> <PAD> <PAD> <PAD> <PAD> <PAD> <PAD> <PAD> <PAD> <PAD> <PAD> <PAD> <PAD> <PAD> <PAD> <PAD> <PAD> <PAD> <PAD> <PAD> <PAD> <PAD> <PAD> <PAD> <PAD> <PAD> <PAD> <PAD> <PAD> <PAD> <PAD> <PAD> <PAD> <PAD> <PAD>\n"
          ],
          "name": "stdout"
        }
      ]
    },
    {
      "cell_type": "code",
      "metadata": {
        "id": "NdD83GBD1TfX"
      },
      "source": [
        "HP_dictionary_size = 10000\n",
        "HP_m1_l1= 16 \n",
        "HP_m2_l1= 32\n",
        "HP_m3_l1= 128\n",
        "# each word broken into 16 vectors! total= 10,000 X 16 weights for vectors\n",
        "HP_m1_l2= 64\n",
        "HP_m2_l2= 128\n",
        "HP_m3_l2= 256\n",
        "\n",
        "HP_epoch = 50 #timelines-> how many times do you want to train the model?\n",
        "# NEURAL NETWORKS-> exposed to your data for 1 row/1 batch at time\n",
        "# Forward Propagation-> values of weights and bias is calculated \n",
        "# 1 epoch is over-> and i get value of y\n",
        "# this y will contain error\n",
        "# Backword Propagation-> dy/dx of entire network-> results in new values of w,b\n",
        "# MOre the no. of epochs-> more are the FORWARD+BACKWORD Propagations\n",
        "# More is the Integrate (make it big)-> differentiate (break it down)\n",
        "\n",
        "\n",
        "HP_maxlen = 256\n",
        "HP_batch_size = 128   "
      ],
      "execution_count": 19,
      "outputs": []
    },
    {
      "cell_type": "code",
      "metadata": {
        "id": "A4kvlpj68lQs"
      },
      "source": [
        "layer1m1 = keras.layers.Embedding(10000,  16)\n",
        "layer2m1 = keras.layers.GlobalAveragePooling1D()\n",
        "# weights -> (-1,1)\n",
        "# words-> positive\n",
        "# equation-> words*weights = pos*neg | pos*pos\n",
        "layer3m1 = keras.layers.Dense(HP_m1_l2, activation='relu')\n",
        "layer4m1 = keras.layers.Dense(1, activation='sigmoid')\n",
        "alllayersm1 = [layer1m1, layer2m1, layer3m1, layer4m1]\n",
        "# SEQUENTIAL DEEP LEARNING MODEL \n",
        "model1 = keras.models.Sequential(alllayersm1)"
      ],
      "execution_count": 20,
      "outputs": []
    },
    {
      "cell_type": "code",
      "metadata": {
        "id": "Mbk3Yco3-rrI"
      },
      "source": [
        "layer1m2 = keras.layers.Embedding(10000,  HP_m2_l1)\n",
        "layer2m2 = keras.layers.GlobalAveragePooling1D()\n",
        "# weights -> (-1,1)\n",
        "# words-> positive\n",
        "# equation-> words*weights = pos*neg | pos*pos\n",
        "layer3m2 = keras.layers.Dense(HP_m2_l2, activation='relu')\n",
        "layer4m2 = keras.layers.Dense(1, activation='sigmoid')\n",
        "alllayersm2 = [layer1m2, layer2m2, layer3m2, layer4m2]\n",
        "# SEQUENTIAL DEEP LEARNING MODEL \n",
        "model2 = keras.models.Sequential(alllayersm2)"
      ],
      "execution_count": 21,
      "outputs": []
    },
    {
      "cell_type": "code",
      "metadata": {
        "id": "tFoZleJRYw4J"
      },
      "source": [
        "model1.compile(loss=tf.losses.binary_crossentropy, optimizer='adam', metrics=['accuracy'])\n",
        "model2.compile(loss=tf.losses.binary_crossentropy, optimizer='adam', metrics=['accuracy'])"
      ],
      "execution_count": 30,
      "outputs": []
    },
    {
      "cell_type": "code",
      "metadata": {
        "colab": {
          "base_uri": "https://localhost:8080/"
        },
        "id": "ydUWM-irZWly",
        "outputId": "a5ffa383-b0d5-4842-a331-38e4e9e942a7"
      },
      "source": [
        "model1.summary()"
      ],
      "execution_count": 23,
      "outputs": [
        {
          "output_type": "stream",
          "text": [
            "Model: \"sequential\"\n",
            "_________________________________________________________________\n",
            "Layer (type)                 Output Shape              Param #   \n",
            "=================================================================\n",
            "embedding (Embedding)        (None, None, 16)          160000    \n",
            "_________________________________________________________________\n",
            "global_average_pooling1d (Gl (None, 16)                0         \n",
            "_________________________________________________________________\n",
            "dense (Dense)                (None, 64)                1088      \n",
            "_________________________________________________________________\n",
            "dense_1 (Dense)              (None, 1)                 65        \n",
            "=================================================================\n",
            "Total params: 161,153\n",
            "Trainable params: 161,153\n",
            "Non-trainable params: 0\n",
            "_________________________________________________________________\n"
          ],
          "name": "stdout"
        }
      ]
    },
    {
      "cell_type": "code",
      "metadata": {
        "colab": {
          "base_uri": "https://localhost:8080/"
        },
        "id": "Kf0cNjvTasZg",
        "outputId": "c9cc45c9-ece8-42e8-a6e3-76d761620a0d"
      },
      "source": [
        "model2.summary()"
      ],
      "execution_count": 24,
      "outputs": [
        {
          "output_type": "stream",
          "text": [
            "Model: \"sequential_1\"\n",
            "_________________________________________________________________\n",
            "Layer (type)                 Output Shape              Param #   \n",
            "=================================================================\n",
            "embedding_1 (Embedding)      (None, None, 32)          320000    \n",
            "_________________________________________________________________\n",
            "global_average_pooling1d_1 ( (None, 32)                0         \n",
            "_________________________________________________________________\n",
            "dense_2 (Dense)              (None, 128)               4224      \n",
            "_________________________________________________________________\n",
            "dense_3 (Dense)              (None, 1)                 129       \n",
            "=================================================================\n",
            "Total params: 324,353\n",
            "Trainable params: 324,353\n",
            "Non-trainable params: 0\n",
            "_________________________________________________________________\n"
          ],
          "name": "stdout"
        }
      ]
    },
    {
      "cell_type": "code",
      "metadata": {
        "id": "0YU9KmMwfNpa"
      },
      "source": [
        ""
      ],
      "execution_count": 24,
      "outputs": []
    },
    {
      "cell_type": "code",
      "metadata": {
        "id": "qfdMPFEXazJK"
      },
      "source": [
        "xval = xtest_padded[:10000]\n",
        "xtest_padded_reduced = xtest_padded[10000:]\n",
        "yval = ytest[:10000]\n",
        "ytest_reduced = ytest[10000:]"
      ],
      "execution_count": 25,
      "outputs": []
    },
    {
      "cell_type": "code",
      "metadata": {
        "colab": {
          "base_uri": "https://localhost:8080/"
        },
        "id": "c65Gkuz8faX7",
        "outputId": "d9e82bc6-ce4d-4b24-fe34-a0ddf26f42ea"
      },
      "source": [
        "import time\n",
        "\n",
        "start_time = time.time()\n",
        "\n",
        "history_m1 = model1.fit(xtrain_padded, ytrain, epochs=50, batch_size=HP_batch_size, validation_data = (xval, yval), verbose=1) \n",
        "end_time = time.time()\n",
        "print('Time Taken = ' + str(end_time-start_time))"
      ],
      "execution_count": 31,
      "outputs": [
        {
          "output_type": "stream",
          "text": [
            "Epoch 1/50\n",
            "196/196 [==============================] - 3s 10ms/step - loss: 0.1100 - accuracy: 0.9654 - val_loss: 0.4214 - val_accuracy: 0.8531\n",
            "Epoch 2/50\n",
            "196/196 [==============================] - 2s 9ms/step - loss: 0.0993 - accuracy: 0.9692 - val_loss: 0.4464 - val_accuracy: 0.8520\n",
            "Epoch 3/50\n",
            "196/196 [==============================] - 2s 9ms/step - loss: 0.0907 - accuracy: 0.9727 - val_loss: 0.4746 - val_accuracy: 0.8494\n",
            "Epoch 4/50\n",
            "196/196 [==============================] - 2s 8ms/step - loss: 0.0826 - accuracy: 0.9764 - val_loss: 0.5089 - val_accuracy: 0.8484\n",
            "Epoch 5/50\n",
            "196/196 [==============================] - 2s 9ms/step - loss: 0.0758 - accuracy: 0.9788 - val_loss: 0.5291 - val_accuracy: 0.8482\n",
            "Epoch 6/50\n",
            "196/196 [==============================] - 2s 9ms/step - loss: 0.0679 - accuracy: 0.9817 - val_loss: 0.5572 - val_accuracy: 0.8453\n",
            "Epoch 7/50\n",
            "196/196 [==============================] - 2s 8ms/step - loss: 0.0618 - accuracy: 0.9838 - val_loss: 0.5943 - val_accuracy: 0.8394\n",
            "Epoch 8/50\n",
            "196/196 [==============================] - 2s 10ms/step - loss: 0.0564 - accuracy: 0.9861 - val_loss: 0.6162 - val_accuracy: 0.8418\n",
            "Epoch 9/50\n",
            "196/196 [==============================] - 2s 9ms/step - loss: 0.0500 - accuracy: 0.9884 - val_loss: 0.6518 - val_accuracy: 0.8397\n",
            "Epoch 10/50\n",
            "196/196 [==============================] - 2s 10ms/step - loss: 0.0450 - accuracy: 0.9899 - val_loss: 0.6908 - val_accuracy: 0.8345\n",
            "Epoch 11/50\n",
            "196/196 [==============================] - 2s 9ms/step - loss: 0.0409 - accuracy: 0.9914 - val_loss: 0.7202 - val_accuracy: 0.8347\n",
            "Epoch 12/50\n",
            "196/196 [==============================] - 2s 10ms/step - loss: 0.0352 - accuracy: 0.9932 - val_loss: 0.7642 - val_accuracy: 0.8301\n",
            "Epoch 13/50\n",
            "196/196 [==============================] - 2s 10ms/step - loss: 0.0315 - accuracy: 0.9934 - val_loss: 0.8027 - val_accuracy: 0.8319\n",
            "Epoch 14/50\n",
            "196/196 [==============================] - 2s 9ms/step - loss: 0.0283 - accuracy: 0.9953 - val_loss: 0.8429 - val_accuracy: 0.8311\n",
            "Epoch 15/50\n",
            "196/196 [==============================] - 2s 9ms/step - loss: 0.0240 - accuracy: 0.9963 - val_loss: 0.8889 - val_accuracy: 0.8289\n",
            "Epoch 16/50\n",
            "196/196 [==============================] - 2s 9ms/step - loss: 0.0205 - accuracy: 0.9970 - val_loss: 0.9406 - val_accuracy: 0.8255\n",
            "Epoch 17/50\n",
            "196/196 [==============================] - 2s 9ms/step - loss: 0.0179 - accuracy: 0.9971 - val_loss: 1.0092 - val_accuracy: 0.8220\n",
            "Epoch 18/50\n",
            "196/196 [==============================] - 2s 10ms/step - loss: 0.0152 - accuracy: 0.9979 - val_loss: 1.0332 - val_accuracy: 0.8260\n",
            "Epoch 19/50\n",
            "196/196 [==============================] - 2s 9ms/step - loss: 0.0126 - accuracy: 0.9986 - val_loss: 1.0765 - val_accuracy: 0.8252\n",
            "Epoch 20/50\n",
            "196/196 [==============================] - 2s 9ms/step - loss: 0.0108 - accuracy: 0.9986 - val_loss: 1.1527 - val_accuracy: 0.8196\n",
            "Epoch 21/50\n",
            "196/196 [==============================] - 2s 9ms/step - loss: 0.0086 - accuracy: 0.9991 - val_loss: 1.1878 - val_accuracy: 0.8244\n",
            "Epoch 22/50\n",
            "196/196 [==============================] - 2s 9ms/step - loss: 0.0084 - accuracy: 0.9988 - val_loss: 1.2939 - val_accuracy: 0.8136\n",
            "Epoch 23/50\n",
            "196/196 [==============================] - 2s 9ms/step - loss: 0.0077 - accuracy: 0.9989 - val_loss: 1.2977 - val_accuracy: 0.8223\n",
            "Epoch 24/50\n",
            "196/196 [==============================] - 2s 8ms/step - loss: 0.0048 - accuracy: 0.9997 - val_loss: 1.3640 - val_accuracy: 0.8196\n",
            "Epoch 25/50\n",
            "196/196 [==============================] - 2s 9ms/step - loss: 0.0038 - accuracy: 0.9998 - val_loss: 1.3956 - val_accuracy: 0.8221\n",
            "Epoch 26/50\n",
            "196/196 [==============================] - 2s 8ms/step - loss: 0.0031 - accuracy: 0.9998 - val_loss: 1.4559 - val_accuracy: 0.8194\n",
            "Epoch 27/50\n",
            "196/196 [==============================] - 2s 9ms/step - loss: 0.0027 - accuracy: 0.9998 - val_loss: 1.4888 - val_accuracy: 0.8197\n",
            "Epoch 28/50\n",
            "196/196 [==============================] - 2s 9ms/step - loss: 0.0021 - accuracy: 1.0000 - val_loss: 1.5369 - val_accuracy: 0.8200\n",
            "Epoch 29/50\n",
            "196/196 [==============================] - 2s 9ms/step - loss: 0.0021 - accuracy: 0.9998 - val_loss: 1.5735 - val_accuracy: 0.8192\n",
            "Epoch 30/50\n",
            "196/196 [==============================] - 2s 8ms/step - loss: 0.0017 - accuracy: 1.0000 - val_loss: 1.6287 - val_accuracy: 0.8190\n",
            "Epoch 31/50\n",
            "196/196 [==============================] - 2s 9ms/step - loss: 0.0015 - accuracy: 1.0000 - val_loss: 1.6701 - val_accuracy: 0.8181\n",
            "Epoch 32/50\n",
            "196/196 [==============================] - 2s 9ms/step - loss: 0.0011 - accuracy: 1.0000 - val_loss: 1.7007 - val_accuracy: 0.8187\n",
            "Epoch 33/50\n",
            "196/196 [==============================] - 2s 10ms/step - loss: 8.5094e-04 - accuracy: 1.0000 - val_loss: 1.7355 - val_accuracy: 0.8185\n",
            "Epoch 34/50\n",
            "196/196 [==============================] - 2s 9ms/step - loss: 7.9057e-04 - accuracy: 1.0000 - val_loss: 1.7755 - val_accuracy: 0.8175\n",
            "Epoch 35/50\n",
            "196/196 [==============================] - 2s 8ms/step - loss: 7.1228e-04 - accuracy: 1.0000 - val_loss: 1.8021 - val_accuracy: 0.8177\n",
            "Epoch 36/50\n",
            "196/196 [==============================] - 2s 9ms/step - loss: 5.3240e-04 - accuracy: 1.0000 - val_loss: 1.8487 - val_accuracy: 0.8176\n",
            "Epoch 37/50\n",
            "196/196 [==============================] - 2s 8ms/step - loss: 4.8947e-04 - accuracy: 1.0000 - val_loss: 1.8692 - val_accuracy: 0.8175\n",
            "Epoch 38/50\n",
            "196/196 [==============================] - 2s 9ms/step - loss: 4.4166e-04 - accuracy: 1.0000 - val_loss: 1.9056 - val_accuracy: 0.8172\n",
            "Epoch 39/50\n",
            "196/196 [==============================] - 2s 8ms/step - loss: 4.1125e-04 - accuracy: 1.0000 - val_loss: 1.9441 - val_accuracy: 0.8173\n",
            "Epoch 40/50\n",
            "196/196 [==============================] - 2s 9ms/step - loss: 3.9995e-04 - accuracy: 1.0000 - val_loss: 1.9794 - val_accuracy: 0.8164\n",
            "Epoch 41/50\n",
            "196/196 [==============================] - 2s 9ms/step - loss: 2.8925e-04 - accuracy: 1.0000 - val_loss: 2.0155 - val_accuracy: 0.8166\n",
            "Epoch 42/50\n",
            "196/196 [==============================] - 2s 9ms/step - loss: 2.6565e-04 - accuracy: 1.0000 - val_loss: 2.0273 - val_accuracy: 0.8166\n",
            "Epoch 43/50\n",
            "196/196 [==============================] - 2s 9ms/step - loss: 2.1847e-04 - accuracy: 1.0000 - val_loss: 2.0668 - val_accuracy: 0.8164\n",
            "Epoch 44/50\n",
            "196/196 [==============================] - 2s 9ms/step - loss: 1.9565e-04 - accuracy: 1.0000 - val_loss: 2.0966 - val_accuracy: 0.8163\n",
            "Epoch 45/50\n",
            "196/196 [==============================] - 2s 10ms/step - loss: 1.7220e-04 - accuracy: 1.0000 - val_loss: 2.1223 - val_accuracy: 0.8169\n",
            "Epoch 46/50\n",
            "196/196 [==============================] - 2s 9ms/step - loss: 0.0265 - accuracy: 0.9909 - val_loss: 2.1725 - val_accuracy: 0.8154\n",
            "Epoch 47/50\n",
            "196/196 [==============================] - 2s 9ms/step - loss: 0.0221 - accuracy: 0.9929 - val_loss: 2.1464 - val_accuracy: 0.8153\n",
            "Epoch 48/50\n",
            "196/196 [==============================] - 2s 9ms/step - loss: 0.0042 - accuracy: 0.9989 - val_loss: 2.1527 - val_accuracy: 0.8161\n",
            "Epoch 49/50\n",
            "196/196 [==============================] - 2s 9ms/step - loss: 9.5096e-04 - accuracy: 1.0000 - val_loss: 2.1623 - val_accuracy: 0.8155\n",
            "Epoch 50/50\n",
            "196/196 [==============================] - 2s 10ms/step - loss: 5.4978e-04 - accuracy: 1.0000 - val_loss: 2.1757 - val_accuracy: 0.8152\n",
            "Time Taken = 90.3258810043335\n"
          ],
          "name": "stdout"
        }
      ]
    },
    {
      "cell_type": "code",
      "metadata": {
        "colab": {
          "base_uri": "https://localhost:8080/"
        },
        "id": "L0cfx0rEcYtq",
        "outputId": "676c6dc1-f8d2-43a6-e685-4a6a85bc1565"
      },
      "source": [
        "import time\n",
        "\n",
        "start_time = time.time()\n",
        "\n",
        "history_m2 = model2.fit(xtrain_padded, ytrain, epochs=50, batch_size=HP_batch_size, validation_data = (xval, yval), verbose=1) \n",
        "end_time = time.time()\n",
        "print('Time Taken = ' + str(end_time-start_time))"
      ],
      "execution_count": 32,
      "outputs": [
        {
          "output_type": "stream",
          "text": [
            "Epoch 1/50\n",
            "196/196 [==============================] - 3s 13ms/step - loss: 0.5816 - accuracy: 0.7216 - val_loss: 0.3965 - val_accuracy: 0.8429\n",
            "Epoch 2/50\n",
            "196/196 [==============================] - 2s 13ms/step - loss: 0.3025 - accuracy: 0.8829 - val_loss: 0.3163 - val_accuracy: 0.8688\n",
            "Epoch 3/50\n",
            "196/196 [==============================] - 2s 12ms/step - loss: 0.2325 - accuracy: 0.9114 - val_loss: 0.3095 - val_accuracy: 0.8724\n",
            "Epoch 4/50\n",
            "196/196 [==============================] - 2s 13ms/step - loss: 0.1936 - accuracy: 0.9287 - val_loss: 0.3204 - val_accuracy: 0.8709\n",
            "Epoch 5/50\n",
            "196/196 [==============================] - 2s 13ms/step - loss: 0.1673 - accuracy: 0.9398 - val_loss: 0.3454 - val_accuracy: 0.8620\n",
            "Epoch 6/50\n",
            "196/196 [==============================] - 2s 13ms/step - loss: 0.1457 - accuracy: 0.9490 - val_loss: 0.3620 - val_accuracy: 0.8608\n",
            "Epoch 7/50\n",
            "196/196 [==============================] - 2s 13ms/step - loss: 0.1284 - accuracy: 0.9565 - val_loss: 0.3952 - val_accuracy: 0.8563\n",
            "Epoch 8/50\n",
            "196/196 [==============================] - 2s 12ms/step - loss: 0.1141 - accuracy: 0.9625 - val_loss: 0.4287 - val_accuracy: 0.8503\n",
            "Epoch 9/50\n",
            "196/196 [==============================] - 2s 12ms/step - loss: 0.1000 - accuracy: 0.9694 - val_loss: 0.4617 - val_accuracy: 0.8469\n",
            "Epoch 10/50\n",
            "196/196 [==============================] - 2s 13ms/step - loss: 0.0888 - accuracy: 0.9748 - val_loss: 0.4879 - val_accuracy: 0.8478\n",
            "Epoch 11/50\n",
            "196/196 [==============================] - 3s 13ms/step - loss: 0.0778 - accuracy: 0.9778 - val_loss: 0.5283 - val_accuracy: 0.8451\n",
            "Epoch 12/50\n",
            "196/196 [==============================] - 2s 12ms/step - loss: 0.0696 - accuracy: 0.9818 - val_loss: 0.5650 - val_accuracy: 0.8434\n",
            "Epoch 13/50\n",
            "196/196 [==============================] - 3s 13ms/step - loss: 0.0597 - accuracy: 0.9850 - val_loss: 0.6044 - val_accuracy: 0.8391\n",
            "Epoch 14/50\n",
            "196/196 [==============================] - 2s 13ms/step - loss: 0.0526 - accuracy: 0.9874 - val_loss: 0.6614 - val_accuracy: 0.8324\n",
            "Epoch 15/50\n",
            "196/196 [==============================] - 2s 13ms/step - loss: 0.0466 - accuracy: 0.9885 - val_loss: 0.7074 - val_accuracy: 0.8289\n",
            "Epoch 16/50\n",
            "196/196 [==============================] - 3s 13ms/step - loss: 0.0421 - accuracy: 0.9904 - val_loss: 0.7446 - val_accuracy: 0.8347\n",
            "Epoch 17/50\n",
            "196/196 [==============================] - 3s 13ms/step - loss: 0.0356 - accuracy: 0.9925 - val_loss: 0.7978 - val_accuracy: 0.8279\n",
            "Epoch 18/50\n",
            "196/196 [==============================] - 2s 13ms/step - loss: 0.0329 - accuracy: 0.9925 - val_loss: 0.8683 - val_accuracy: 0.8210\n",
            "Epoch 19/50\n",
            "196/196 [==============================] - 2s 13ms/step - loss: 0.0265 - accuracy: 0.9947 - val_loss: 0.8942 - val_accuracy: 0.8260\n",
            "Epoch 20/50\n",
            "196/196 [==============================] - 2s 13ms/step - loss: 0.0224 - accuracy: 0.9959 - val_loss: 0.9584 - val_accuracy: 0.8231\n",
            "Epoch 21/50\n",
            "196/196 [==============================] - 2s 12ms/step - loss: 0.0195 - accuracy: 0.9964 - val_loss: 1.0150 - val_accuracy: 0.8222\n",
            "Epoch 22/50\n",
            "196/196 [==============================] - 2s 12ms/step - loss: 0.0158 - accuracy: 0.9976 - val_loss: 1.0643 - val_accuracy: 0.8221\n",
            "Epoch 23/50\n",
            "196/196 [==============================] - 2s 13ms/step - loss: 0.0123 - accuracy: 0.9984 - val_loss: 1.1159 - val_accuracy: 0.8237\n",
            "Epoch 24/50\n",
            "196/196 [==============================] - 2s 12ms/step - loss: 0.0104 - accuracy: 0.9985 - val_loss: 1.1796 - val_accuracy: 0.8224\n",
            "Epoch 25/50\n",
            "196/196 [==============================] - 2s 12ms/step - loss: 0.0082 - accuracy: 0.9988 - val_loss: 1.2542 - val_accuracy: 0.8205\n",
            "Epoch 26/50\n",
            "196/196 [==============================] - 2s 13ms/step - loss: 0.0079 - accuracy: 0.9989 - val_loss: 1.3218 - val_accuracy: 0.8198\n",
            "Epoch 27/50\n",
            "196/196 [==============================] - 2s 13ms/step - loss: 0.0056 - accuracy: 0.9995 - val_loss: 1.3899 - val_accuracy: 0.8197\n",
            "Epoch 28/50\n",
            "196/196 [==============================] - 3s 13ms/step - loss: 0.0038 - accuracy: 0.9998 - val_loss: 1.4441 - val_accuracy: 0.8190\n",
            "Epoch 29/50\n",
            "196/196 [==============================] - 3s 13ms/step - loss: 0.0026 - accuracy: 0.9999 - val_loss: 1.4874 - val_accuracy: 0.8184\n",
            "Epoch 30/50\n",
            "196/196 [==============================] - 2s 12ms/step - loss: 0.0020 - accuracy: 0.9999 - val_loss: 1.5314 - val_accuracy: 0.8182\n",
            "Epoch 31/50\n",
            "196/196 [==============================] - 2s 12ms/step - loss: 0.0017 - accuracy: 1.0000 - val_loss: 1.5846 - val_accuracy: 0.8182\n",
            "Epoch 32/50\n",
            "196/196 [==============================] - 2s 13ms/step - loss: 0.0014 - accuracy: 1.0000 - val_loss: 1.6334 - val_accuracy: 0.8171\n",
            "Epoch 33/50\n",
            "196/196 [==============================] - 2s 13ms/step - loss: 0.0012 - accuracy: 1.0000 - val_loss: 1.6725 - val_accuracy: 0.8182\n",
            "Epoch 34/50\n",
            "196/196 [==============================] - 2s 12ms/step - loss: 9.6331e-04 - accuracy: 1.0000 - val_loss: 1.6979 - val_accuracy: 0.8179\n",
            "Epoch 35/50\n",
            "196/196 [==============================] - 2s 12ms/step - loss: 0.0010 - accuracy: 1.0000 - val_loss: 1.7379 - val_accuracy: 0.8172\n",
            "Epoch 36/50\n",
            "196/196 [==============================] - 2s 13ms/step - loss: 7.4863e-04 - accuracy: 1.0000 - val_loss: 1.7787 - val_accuracy: 0.8165\n",
            "Epoch 37/50\n",
            "196/196 [==============================] - 2s 12ms/step - loss: 5.8995e-04 - accuracy: 1.0000 - val_loss: 1.8219 - val_accuracy: 0.8179\n",
            "Epoch 38/50\n",
            "196/196 [==============================] - 2s 13ms/step - loss: 5.0451e-04 - accuracy: 1.0000 - val_loss: 1.8549 - val_accuracy: 0.8160\n",
            "Epoch 39/50\n",
            "196/196 [==============================] - 2s 13ms/step - loss: 4.1611e-04 - accuracy: 1.0000 - val_loss: 1.8804 - val_accuracy: 0.8159\n",
            "Epoch 40/50\n",
            "196/196 [==============================] - 3s 13ms/step - loss: 4.0479e-04 - accuracy: 1.0000 - val_loss: 1.9152 - val_accuracy: 0.8162\n",
            "Epoch 41/50\n",
            "196/196 [==============================] - 3s 13ms/step - loss: 3.4238e-04 - accuracy: 1.0000 - val_loss: 1.9605 - val_accuracy: 0.8161\n",
            "Epoch 42/50\n",
            "196/196 [==============================] - 3s 13ms/step - loss: 3.0945e-04 - accuracy: 1.0000 - val_loss: 1.9767 - val_accuracy: 0.8155\n",
            "Epoch 43/50\n",
            "196/196 [==============================] - 3s 13ms/step - loss: 2.7397e-04 - accuracy: 1.0000 - val_loss: 2.0049 - val_accuracy: 0.8153\n",
            "Epoch 44/50\n",
            "196/196 [==============================] - 2s 13ms/step - loss: 2.1917e-04 - accuracy: 1.0000 - val_loss: 2.0465 - val_accuracy: 0.8160\n",
            "Epoch 45/50\n",
            "196/196 [==============================] - 2s 12ms/step - loss: 1.7560e-04 - accuracy: 1.0000 - val_loss: 2.0742 - val_accuracy: 0.8162\n",
            "Epoch 46/50\n",
            "196/196 [==============================] - 2s 12ms/step - loss: 1.6330e-04 - accuracy: 1.0000 - val_loss: 2.1086 - val_accuracy: 0.8159\n",
            "Epoch 47/50\n",
            "196/196 [==============================] - 2s 13ms/step - loss: 1.5354e-04 - accuracy: 1.0000 - val_loss: 2.1370 - val_accuracy: 0.8152\n",
            "Epoch 48/50\n",
            "196/196 [==============================] - 2s 12ms/step - loss: 1.3371e-04 - accuracy: 1.0000 - val_loss: 2.1663 - val_accuracy: 0.8153\n",
            "Epoch 49/50\n",
            "196/196 [==============================] - 3s 13ms/step - loss: 1.0967e-04 - accuracy: 1.0000 - val_loss: 2.1990 - val_accuracy: 0.8156\n",
            "Epoch 50/50\n",
            "196/196 [==============================] - 2s 13ms/step - loss: 1.0609e-04 - accuracy: 1.0000 - val_loss: 2.2272 - val_accuracy: 0.8152\n",
            "Time Taken = 142.49206805229187\n"
          ],
          "name": "stdout"
        }
      ]
    },
    {
      "cell_type": "code",
      "metadata": {
        "id": "ivvwVeF-c-xW"
      },
      "source": [
        ""
      ],
      "execution_count": null,
      "outputs": []
    },
    {
      "cell_type": "code",
      "metadata": {
        "id": "DCZfUu8qeTER"
      },
      "source": [
        "yval"
      ],
      "execution_count": null,
      "outputs": []
    },
    {
      "cell_type": "code",
      "metadata": {
        "id": "YRKkFSzpbuYO"
      },
      "source": [
        "history_m1 = model1.fit(xtrain_padded, ytrain, epochs=HP_epoch, batch_size=32, validation_data = (xval, yval), verbose=1) "
      ],
      "execution_count": null,
      "outputs": []
    },
    {
      "cell_type": "code",
      "metadata": {
        "id": "2HLBqJhe-ral"
      },
      "source": [
        "# ML=y = mx+c\n",
        "# DL=y' = w1*f(y) + w2*f1(y) + w3.....w161088*f161087(y) + b1...b65\n",
        "# y' = [0,1]\n",
        "# \n",
        "# weights = input_size*output_size\n",
        "# biases = output_size \n",
        "# HOW will the loss be calculated? -> LOSS FUNCTION\n",
        "# Once it is calculated, how to reduce it?-> OPTIMIZER FUNCTION\n",
        "# Preprocessed Inputs -> not all data is equal\n",
        "# before we had columns-> highly structured\n",
        "# unstructured data-> different lengths-> MATRIX \n",
        "# EMBEDDED-> MATRIX-> structured data\n",
        "# GLobalAveragePooling-> to transform Matrix to 1-D tensor /number series\n",
        "# Deep Learning-> 1-D tensors\n",
        "# Any deep learning equation\n",
        "# build a network to read raw data and process into 1-D tensors\n",
        "# 2 Dense layers to calculate w,b [pattern of data]-> last 2 layers\n",
        "# From input to output-> HIDDEN LAYERS-> Golbal Average Pooling , 1 Dense Layer\n"
      ],
      "execution_count": null,
      "outputs": []
    }
  ]
}